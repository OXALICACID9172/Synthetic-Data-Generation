{
 "cells": [
  {
   "cell_type": "code",
   "execution_count": 2,
   "metadata": {},
   "outputs": [
    {
     "name": "stdout",
     "output_type": "stream",
     "text": [
      "/scratch/cjiang/fine_tune/dataset_1024_only\r\n"
     ]
    }
   ],
   "source": [
    "!pwd"
   ]
  },
  {
   "cell_type": "code",
   "execution_count": 5,
   "metadata": {},
   "outputs": [
    {
     "name": "stdout",
     "output_type": "stream",
     "text": [
      "227\n"
     ]
    }
   ],
   "source": [
    "import os\n",
    "org_data = '/scratch/cjiang/fine_tune/kohya/kohya_ss/model_training/network_1024_816_768_lora_2class/image/100_network'\n",
    "counter = 1\n",
    "for i in os.listdir(org_data):\n",
    "    if '1024' in i and 'netflix' in i:\n",
    "        counter += 1\n",
    "        #os.system('rm /scratch/cjiang/fine_tune/kohya/kohya_ss/model_training/network_1024_816_768_lora_2class/image/100_network/'+i)"
   ]
  },
  {
   "cell_type": "code",
   "execution_count": 4,
   "metadata": {},
   "outputs": [],
   "source": [
    "with open('/scratch/cjiang/fine_tune/dataset/train/metadata.jsonl','r') as f:\n",
    "    lines = f.readlines()\n",
    "with open('/scratch/cjiang/fine_tune/dataset_1024_only/train/metadata.jsonl','w') as f:\n",
    "    for i in lines:\n",
    "        if '1024' in i:\n",
    "            f.write(i)"
   ]
  },
  {
   "cell_type": "code",
   "execution_count": 6,
   "metadata": {},
   "outputs": [],
   "source": [
    "#prompt change\n",
    "with open('/scratch/cjiang/fine_tune/dataset_1024_only/train/metadata.jsonl','r') as f:\n",
    "    lines = f.readlines()\n",
    "with open('/scratch/cjiang/fine_tune/dataset_1024_only/train/metadata.jsonl','w') as f:\n",
    "    for i in lines:\n",
    "        f.write(i.replace(' with 1024 packets',', color palette limited to 3 including red blue and green, pixelization, detail, data'))"
   ]
  },
  {
   "cell_type": "code",
   "execution_count": 1,
   "metadata": {},
   "outputs": [],
   "source": [
    "# for webui prompt changing"
   ]
  },
  {
   "cell_type": "code",
   "execution_count": 1,
   "metadata": {},
   "outputs": [],
   "source": [
    "import os\n",
    "org_data_dir = '/scratch/cjiang/fine_tune/kohya/kohya_ss/model_training/network_1024_816_768_lora_2class/image/100_network'\n",
    "for i in os.listdir(org_data_dir):\n",
    "    if 'txt' in i:\n",
    "        service = (i.split('-0-')[1]).split('_')[0]\n",
    "        packets = (i.split('_')[1]).split('_')[0]\n",
    "        with open ('/scratch/cjiang/fine_tune/kohya/kohya_ss/model_training/network_1024_816_768_lora_2class/image/100_network/'+i,'w') as f:\n",
    "             f.write(service + ', '+packets+' rows of packets, color palette limited to 3 including red blue and green, pixelization, detail, data')"
   ]
  },
  {
   "cell_type": "code",
   "execution_count": null,
   "metadata": {},
   "outputs": [],
   "source": []
  }
 ],
 "metadata": {
  "kernelspec": {
   "display_name": "Python 3",
   "language": "python",
   "name": "python3"
  },
  "language_info": {
   "codemirror_mode": {
    "name": "ipython",
    "version": 3
   },
   "file_extension": ".py",
   "mimetype": "text/x-python",
   "name": "python",
   "nbconvert_exporter": "python",
   "pygments_lexer": "ipython3",
   "version": "3.6.8"
  }
 },
 "nbformat": 4,
 "nbformat_minor": 4
}
